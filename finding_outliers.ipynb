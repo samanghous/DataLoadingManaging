{
 "cells": [
  {
   "cell_type": "code",
   "execution_count": 41,
   "metadata": {},
   "outputs": [],
   "source": [
    "import pandas as pd\n",
    "import numpy as np\n",
    "import matplotlib\n",
    "from matplotlib import pyplot as plt"
   ]
  },
  {
   "cell_type": "code",
   "execution_count": 42,
   "metadata": {},
   "outputs": [],
   "source": [
    "sam1=[101,101,101,101,101,101,101,101,102,102,102,102,102,40,20,101,101,101,101,101,101,102,103,101,101,101]"
   ]
  },
  {
   "cell_type": "code",
   "execution_count": 43,
   "metadata": {},
   "outputs": [],
   "source": [
    "#......................................outlier using 68-95-97 rule\n",
    "def samfunc1(x):\n",
    "    samoutlier=[]\n",
    "    sammean=np.mean(x)\n",
    "    samstd=np.std(x)\n",
    "    \n",
    "    for i in x:\n",
    "        j=(i-sammean)/samstd\n",
    "        if j>3 or j<-3:\n",
    "            samoutlier.append(i)\n",
    "    return samoutlier\n"
   ]
  },
  {
   "cell_type": "code",
   "execution_count": 44,
   "metadata": {},
   "outputs": [
    {
     "data": {
      "text/plain": [
       "[20]"
      ]
     },
     "execution_count": 44,
     "metadata": {},
     "output_type": "execute_result"
    }
   ],
   "source": [
    "samfunc1(sam1)"
   ]
  },
  {
   "cell_type": "code",
   "execution_count": 45,
   "metadata": {},
   "outputs": [
    {
     "data": {
      "text/plain": [
       "95.84615384615384"
      ]
     },
     "execution_count": 45,
     "metadata": {},
     "output_type": "execute_result"
    }
   ],
   "source": [
    "np.mean(sam1)"
   ]
  },
  {
   "cell_type": "code",
   "execution_count": 46,
   "metadata": {},
   "outputs": [
    {
     "data": {
      "text/plain": [
       "19.216764131055964"
      ]
     },
     "execution_count": 46,
     "metadata": {},
     "output_type": "execute_result"
    }
   ],
   "source": [
    "np.std(sam1)"
   ]
  },
  {
   "cell_type": "code",
   "execution_count": 38,
   "metadata": {},
   "outputs": [],
   "source": [
    "sammov=pd.read_csv('http://bit.ly/imdbratings')"
   ]
  },
  {
   "cell_type": "code",
   "execution_count": 47,
   "metadata": {},
   "outputs": [
    {
     "data": {
      "text/plain": [
       "[200, 201, 207, 229, 216, 224, 238, 212, 220, 242, 202, 205]"
      ]
     },
     "execution_count": 47,
     "metadata": {},
     "output_type": "execute_result"
    }
   ],
   "source": [
    "samfunc1(sammov.duration)"
   ]
  },
  {
   "cell_type": "code",
   "execution_count": 48,
   "metadata": {},
   "outputs": [],
   "source": [
    "#..............................................using percentile method\n",
    "def samfunc2(x):\n",
    "    samoutlier=[]\n",
    "    sam25th,sam75th=np.percentile(x,[25,75])\n",
    "    samiqr=sam75th-sam25th\n",
    "    \n",
    "    for i in x:\n",
    "        if i>(sam75th+1.5*samiqr) or i<(sam25th-1.5*samiqr):\n",
    "            samoutlier.append(i)\n",
    "    return samoutlier\n",
    "            "
   ]
  },
  {
   "cell_type": "code",
   "execution_count": 49,
   "metadata": {},
   "outputs": [
    {
     "data": {
      "text/plain": [
       "[40, 20, 103]"
      ]
     },
     "execution_count": 49,
     "metadata": {},
     "output_type": "execute_result"
    }
   ],
   "source": [
    "samfunc2(sam1)"
   ]
  },
  {
   "cell_type": "code",
   "execution_count": 53,
   "metadata": {},
   "outputs": [
    {
     "data": {
      "text/plain": [
       "[200,\n",
       " 201,\n",
       " 195,\n",
       " 207,\n",
       " 189,\n",
       " 229,\n",
       " 216,\n",
       " 189,\n",
       " 183,\n",
       " 186,\n",
       " 224,\n",
       " 238,\n",
       " 188,\n",
       " 212,\n",
       " 191,\n",
       " 184,\n",
       " 189,\n",
       " 188,\n",
       " 197,\n",
       " 197,\n",
       " 193,\n",
       " 220,\n",
       " 242,\n",
       " 187,\n",
       " 194,\n",
       " 202,\n",
       " 191,\n",
       " 205]"
      ]
     },
     "execution_count": 53,
     "metadata": {},
     "output_type": "execute_result"
    }
   ],
   "source": [
    "samfunc2(sammov.duration)"
   ]
  },
  {
   "cell_type": "code",
   "execution_count": null,
   "metadata": {},
   "outputs": [],
   "source": [
    " "
   ]
  },
  {
   "cell_type": "code",
   "execution_count": null,
   "metadata": {},
   "outputs": [],
   "source": []
  }
 ],
 "metadata": {
  "kernelspec": {
   "display_name": "Python 3",
   "language": "python",
   "name": "python3"
  },
  "language_info": {
   "codemirror_mode": {
    "name": "ipython",
    "version": 3
   },
   "file_extension": ".py",
   "mimetype": "text/x-python",
   "name": "python",
   "nbconvert_exporter": "python",
   "pygments_lexer": "ipython3",
   "version": "3.7.6"
  }
 },
 "nbformat": 4,
 "nbformat_minor": 4
}
